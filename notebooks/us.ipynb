{
 "nbformat": 4,
 "nbformat_minor": 2,
 "metadata": {
  "language_info": {
   "name": "python",
   "codemirror_mode": {
    "name": "ipython",
    "version": 2
   },
   "version": "3.8.2-final"
  },
  "orig_nbformat": 2,
  "file_extension": ".py",
  "mimetype": "text/x-python",
  "name": "python",
  "npconvert_exporter": "python",
  "pygments_lexer": "ipython2",
  "version": 2,
  "kernelspec": {
   "name": "python271664bit0873deb0ac5241b09e276231f2208fc9",
   "display_name": "Python 2.7.16 64-bit"
  }
 },
 "cells": [
  {
   "cell_type": "code",
   "execution_count": 5,
   "metadata": {},
   "outputs": [],
   "source": [
    "import pandas as pd\n",
    "import matplotlib as mpl\n",
    "import matplotlib.pyplot as plt\n",
    "import pickle\n",
    "from lmfit import Model\n",
    "from lmfit.models import LinearModel\n",
    "\n",
    "# Choosing a set of dataframes\n",
    "pickle_name = 'df_us'\n",
    "\n",
    "# Choosing a data type\n",
    "df_type = 'cases'\n",
    "\n",
    "pickle_file = open(f'../pickles/{pickle_name}''.p', 'rb')\n",
    "df= pickle.load(pickle_file)[df_type]\n",
    "pickle_file.close()"
   ]
  },
  {
   "cell_type": "code",
   "execution_count": 6,
   "metadata": {},
   "outputs": [],
   "source": [
    "# Nonlinear least squares starting point, using LinearModel\n",
    "df = df.groupby('day').sum().reset_index()\n",
    "df = df[['day', 'cases']]\n",
    "model = LinearModel()\n",
    "params = model.make_params()\n",
    "result = model.fit(df.cases, params, x=df.day.to_list())\n",
    "mpl.style.use('dark_background')\n",
    "result.plot_fit(xlabel='days since 2020-01-22', ylabel='US cases', datafmt='og', fitfmt='r')"
   ]
  }
 ]
}