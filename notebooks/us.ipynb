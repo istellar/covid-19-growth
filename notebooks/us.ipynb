{
 "nbformat": 4,
 "nbformat_minor": 2,
 "metadata": {
  "language_info": {
   "name": "python",
   "codemirror_mode": {
    "name": "ipython",
    "version": 2
   },
   "version": "3.7.4-final"
  },
  "orig_nbformat": 2,
  "file_extension": ".py",
  "mimetype": "text/x-python",
  "name": "python",
  "npconvert_exporter": "python",
  "pygments_lexer": "ipython2",
  "version": 2,
  "kernelspec": {
   "name": "python37464bit4701e53b5c434c759e96260b322c980e",
   "display_name": "Python 3.7.4 64-bit"
  }
 },
 "cells": [
  {
   "cell_type": "code",
   "execution_count": 10,
   "metadata": {},
   "outputs": [
    {
     "output_type": "error",
     "ename": "SyntaxError",
     "evalue": "invalid syntax (<ipython-input-10-09481c9138ab>, line 28)",
     "traceback": [
      "\u001b[0;36m  File \u001b[0;32m\"<ipython-input-10-09481c9138ab>\"\u001b[0;36m, line \u001b[0;32m28\u001b[0m\n\u001b[0;31m    result.plot_fit(xlabel='Days Since 2020-01-22', ylabel=, datafmt='og', fitfmt='r')\u001b[0m\n\u001b[0m                                                           ^\u001b[0m\n\u001b[0;31mSyntaxError\u001b[0m\u001b[0;31m:\u001b[0m invalid syntax\n"
     ]
    }
   ],
   "source": [
    "import pandas as pd\n",
    "import matplotlib as mpl\n",
    "import matplotlib.pyplot as plt\n",
    "import pickle\n",
    "from lmfit import models\n",
    "\n",
    "# Choose a set of dataframes\n",
    "pickle_name = 'df_us_region_and_state'\n",
    "\n",
    "# Choose a data type\n",
    "df_type = 'cases'\n",
    "\n",
    "# Import the dataframe\n",
    "pickle_file = open(f'../output/pickles/{pickle_name}''.p', 'rb')\n",
    "df= pickle.load(pickle_file)[df_type]\n",
    "pickle_file.close()\n",
    "\n",
    "# Filter if needed\n",
    "df = df.loc[df['state'] == 'Montana']\n",
    "\n",
    "# Model. See https://lmfit.github.io/lmfit-py/builtin_models.html\n",
    "model = models.PowerLawModel()\n",
    "df = df.groupby('day').sum().reset_index()\n",
    "df = df[['day', 'cases']]\n",
    "params = model.make_params()\n",
    "result = model.fit(df.cases, params, x=df.day.to_list())\n",
    "mpl.style.use('dark_background')\n",
    "result.plot_fit(xlabel='Days Since 2020-01-22', ylabel='Cases', datafmt='og', fitfmt='r')"
   ]
  }
 ]
}