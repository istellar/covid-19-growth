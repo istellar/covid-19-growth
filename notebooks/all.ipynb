{
 "nbformat": 4,
 "nbformat_minor": 2,
 "metadata": {
  "language_info": {
   "name": "python",
   "codemirror_mode": {
    "name": "ipython",
    "version": 2
   },
   "version": "2.7.16-final"
  },
  "orig_nbformat": 2,
  "file_extension": ".py",
  "mimetype": "text/x-python",
  "name": "python",
  "npconvert_exporter": "python",
  "pygments_lexer": "ipython2",
  "version": 2,
  "kernelspec": {
   "name": "python271664bit086876e8a2174cd78942f51c9a939c3d",
   "display_name": "Python 2.7.16 64-bit"
  }
 },
 "cells": [
  {
   "cell_type": "code",
   "execution_count": 5,
   "metadata": {},
   "outputs": [],
   "source": [
    "import pandas as pd\n",
    "import matplotlib as mpl\n",
    "import matplotlib.pyplot as plt\n",
    "import pickle\n",
    "from pprint import pprint as pp"
   ]
  },
  {
   "cell_type": "code",
   "execution_count": null,
   "metadata": {},
   "outputs": [],
   "source": [
    "# First run ./update_pickles.sh if needed\n",
    "\n",
    "# Choosing a set of dataframes\n",
    "pickle_name = 'c19_all'\n",
    "# Choosing a data type\n",
    "df_type = 'cases'\n",
    "\n",
    "pickle_file = open(f'../pickles/{pickle_name}''.p', 'rb')\n",
    "df= pickle.load(pickle_file)[df_type]\n",
    "pickle_file.close()"
   ]
  }
 ]
}